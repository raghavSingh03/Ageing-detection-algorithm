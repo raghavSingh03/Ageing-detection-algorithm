{
 "cells": [
  {
   "cell_type": "code",
   "execution_count": 1,
   "metadata": {},
   "outputs": [
    {
     "ename": "ModuleNotFoundError",
     "evalue": "No module named 'tensorflow'",
     "output_type": "error",
     "traceback": [
      "\u001b[1;31m---------------------------------------------------------------------------\u001b[0m",
      "\u001b[1;31mModuleNotFoundError\u001b[0m                       Traceback (most recent call last)",
      "\u001b[1;32m<ipython-input-1-5f8190015e14>\u001b[0m in \u001b[0;36m<module>\u001b[1;34m\u001b[0m\n\u001b[1;32m----> 1\u001b[1;33m \u001b[1;32mimport\u001b[0m \u001b[0mtensorflow\u001b[0m \u001b[1;32mas\u001b[0m \u001b[0mtf\u001b[0m\u001b[1;33m\u001b[0m\u001b[1;33m\u001b[0m\u001b[0m\n\u001b[0m\u001b[0;32m      2\u001b[0m \u001b[1;32mimport\u001b[0m \u001b[0mpandas\u001b[0m \u001b[1;32mas\u001b[0m \u001b[0mpd\u001b[0m\u001b[1;33m\u001b[0m\u001b[1;33m\u001b[0m\u001b[0m\n\u001b[0;32m      3\u001b[0m \u001b[1;32mimport\u001b[0m \u001b[0mnumpy\u001b[0m \u001b[1;32mas\u001b[0m \u001b[0mnp\u001b[0m\u001b[1;33m\u001b[0m\u001b[1;33m\u001b[0m\u001b[0m\n\u001b[0;32m      4\u001b[0m \u001b[1;32mimport\u001b[0m \u001b[0mos\u001b[0m\u001b[1;33m\u001b[0m\u001b[1;33m\u001b[0m\u001b[0m\n\u001b[0;32m      5\u001b[0m \u001b[1;32mimport\u001b[0m \u001b[0mcv2\u001b[0m\u001b[1;33m\u001b[0m\u001b[1;33m\u001b[0m\u001b[0m\n",
      "\u001b[1;31mModuleNotFoundError\u001b[0m: No module named 'tensorflow'"
     ]
    }
   ],
   "source": [
    "import tensorflow as tf\n",
    "import pandas as pd\n",
    "import numpy as np\n",
    "import os\n",
    "import cv2"
   ]
  },
  {
   "cell_type": "code",
   "execution_count": null,
   "metadata": {},
   "outputs": [],
   "source": [
    "from keras.models import model_from_json\n",
    "json_file=open(\"Puffy.json\",\"r\")\n",
    "model_puffy_json=json_file.read()\n",
    "json_file.close()\n",
    "puffy_model=model_from_json(model_puffy_json)\n",
    "puffy_model.load_weights(\"PuffyWeights.h5\")\n",
    "print(\"Loaded puffy_model successfully\")"
   ]
  },
  {
   "cell_type": "code",
   "execution_count": null,
   "metadata": {},
   "outputs": [],
   "source": [
    "json_file=open(\"Wrinkle.json\",\"r\")\n",
    "model_wrinkle_json=json_file.read()\n",
    "json_file.close()\n",
    "wrinkle_model=model_from_json(model_wrinkle_json)\n",
    "wrinkle_model.load_weights(\"WrinkleWeights.h5\")\n",
    "print(\"Loaded wrinkle_model successfully\")"
   ]
  },
  {
   "cell_type": "code",
   "execution_count": null,
   "metadata": {},
   "outputs": [],
   "source": [
    "json_file=open(\"DarkSpots.json\",\"r\")\n",
    "model_DarkSpots_json=json_file.read()\n",
    "json_file.close()\n",
    "DarkSpots_model=model_from_json(model_DarkSpots_json)\n",
    "DarkSpots_model.load_weights(\"DarkSpotsWeights.h5\")\n",
    "print(\"Loaded DarkSpots_model successfully\")"
   ]
  },
  {
   "cell_type": "code",
   "execution_count": null,
   "metadata": {},
   "outputs": [],
   "source": [
    "def getPuffyClass(classNo):\n",
    "    if classNo == 0: return \"No Puffy Eyes\"\n",
    "    elif classNo == 1: return \"Puffy Eyes\""
   ]
  },
  {
   "cell_type": "code",
   "execution_count": null,
   "metadata": {},
   "outputs": [],
   "source": [
    "def getWrinkleClass(classNo):\n",
    "    if classNo == 0: return \"No Wrinkles\"\n",
    "    elif classNo == 1: return \"Wrinkled\""
   ]
  },
  {
   "cell_type": "code",
   "execution_count": null,
   "metadata": {},
   "outputs": [],
   "source": [
    "def getDarkSpotsClass(classNo):\n",
    "    if classNo == 0: return \"No Dark Spots\"\n",
    "    elif classNo == 1: return \"Dark Spots\""
   ]
  },
  {
   "cell_type": "code",
   "execution_count": null,
   "metadata": {},
   "outputs": [],
   "source": [
    "def preprocessing(image):\n",
    "    image=cv2.cvtColor(image,cv2.COLOR_BGR2GRAY)\n",
    "    image=image/255\n",
    "    return image"
   ]
  },
  {
   "cell_type": "code",
   "execution_count": null,
   "metadata": {},
   "outputs": [],
   "source": [
    "face_cascade=cv2.CascadeClassifier(\"D:/xml files/haar-cascade-files-master/haarcascade_frontalface_default.xml\")\n",
    "eye_cascade = cv2.CascadeClassifier(\"D:/xml files/haar-cascade-files-master/haarcascade_eye.xml\")"
   ]
  },
  {
   "cell_type": "code",
   "execution_count": null,
   "metadata": {},
   "outputs": [],
   "source": [
    "image_path=\"D:/DataSets/Anthony_Fauci_2020.jpg\""
   ]
  },
  {
   "cell_type": "code",
   "execution_count": null,
   "metadata": {},
   "outputs": [],
   "source": [
    "images=[]\n",
    "test=[]\n",
    "for i in range(3):\n",
    "    images.append(cv2.imread(image_path))"
   ]
  },
  {
   "cell_type": "code",
   "execution_count": null,
   "metadata": {},
   "outputs": [],
   "source": [
    "images=np.array(images)"
   ]
  },
  {
   "cell_type": "code",
   "execution_count": null,
   "metadata": {},
   "outputs": [],
   "source": [
    "len(images)"
   ]
  },
  {
   "cell_type": "code",
   "execution_count": null,
   "metadata": {},
   "outputs": [],
   "source": [
    "images.shape"
   ]
  },
  {
   "cell_type": "code",
   "execution_count": null,
   "metadata": {},
   "outputs": [],
   "source": [
    "for i in range(3):\n",
    "    test.append(cv2.cvtColor(images[i],cv2.COLOR_BGR2GRAY))    "
   ]
  },
  {
   "cell_type": "code",
   "execution_count": null,
   "metadata": {},
   "outputs": [],
   "source": [
    "test=np.array(test)"
   ]
  },
  {
   "cell_type": "code",
   "execution_count": null,
   "metadata": {},
   "outputs": [],
   "source": [
    "cv2.imshow(\"Fauci\",test[0])\n",
    "cv2.waitKey(5000)\n",
    "cv2.destroyAllWindows()"
   ]
  },
  {
   "cell_type": "code",
   "execution_count": null,
   "metadata": {},
   "outputs": [],
   "source": [
    "faces = face_cascade.detectMultiScale(test[0],1.3,5)"
   ]
  },
  {
   "cell_type": "code",
   "execution_count": null,
   "metadata": {},
   "outputs": [],
   "source": [
    "# Testing for wrinkles\n",
    "for (x,y,w,h) in faces:\n",
    "    img=images[0][x:x+w,y:y+h]\n",
    "    imagearr=cv2.resize(img,(100,100))\n",
    "    imagearr=preprocessing(imagearr)\n",
    "    imagearr=imagearr.reshape((1,100,100,1)) \n",
    "    predictions=wrinkle_model.predict(imagearr)\n",
    "    classIndex=wrinkle_model.predict_classes(imagearr)\n",
    "    probValue=np.amax(predictions)\n",
    "    cv2.putText(images[0],\"Class: \",(20,25),cv2.FONT_HERSHEY_SIMPLEX,1,(0,0,255)) \n",
    "    cv2.putText(images[0],\"Probability: \",(20,65),cv2.FONT_HERSHEY_SIMPLEX,1,(0,0,255))\n",
    "    if probValue>0.75:\n",
    "        cv2.rectangle(images[0],(x,y),(x+w,y+h),(0,255,0),2)\n",
    "        cv2.putText(images[0],getWrinkleClass(classIndex),(120,25),cv2.FONT_HERSHEY_SIMPLEX,1,(0,0,255),1)\n",
    "        cv2.putText(images[0],str(int(probValue*100))+\" %\",(200,65),cv2.FONT_HERSHEY_SIMPLEX,1,(0,0,255),2)\n",
    "    cv2.imshow(\"Wrinkle Prediction\",images[0])\n",
    "    key=cv2.waitKey(0)\n",
    "    if key==ord(\"\\r\"):\n",
    "        cv2.destroyAllWindows()"
   ]
  },
  {
   "cell_type": "code",
   "execution_count": null,
   "metadata": {},
   "outputs": [],
   "source": [
    "# Testing for puffy eyes\n",
    "for (x,y,w,h) in faces:\n",
    "    roi_gray = images[1][y:y+h, x:x+w]\n",
    "    roi_color = images[1][y:y+h, x:x+w]\n",
    "    eyes = eye_cascade.detectMultiScale(roi_gray)\n",
    "    for (ex,ey,ew,eh) in eyes:\n",
    "        eye=roi_color[ex:ex+ew,ey:ey+eh]\n",
    "        imagearr=eye\n",
    "        imagearr=cv2.resize(imagearr,(100,100))\n",
    "        imagearr=preprocessing(imagearr)\n",
    "        imagearr=imagearr.reshape((1,100,100,1)) \n",
    "        predictions=puffy_model.predict(imagearr)\n",
    "        classIndex=puffy_model.predict_classes(imagearr)\n",
    "        probValue=np.amax(predictions)\n",
    "        cv2.putText(images[1],\"Class: \",(20,25),cv2.FONT_HERSHEY_SIMPLEX,1,(0,0,255)) \n",
    "        cv2.putText(images[1],\"Probability: \",(20,65),cv2.FONT_HERSHEY_SIMPLEX,1,(0,0,255))\n",
    "        if probValue>0.75:\n",
    "            cv2.putText(images[1],getPuffyClass(classIndex),(120,25),cv2.FONT_HERSHEY_SIMPLEX,1,(0,0,255),1)\n",
    "            cv2.putText(images[1],str(int(probValue*100))+\" %\",(200,65),cv2.FONT_HERSHEY_SIMPLEX,1,(0,0,255),2)\n",
    "            for (ex,ey,ew,eh) in eyes:\n",
    "                imgarr=roi_color[ex:ex+ew,ey:ey+eh]\n",
    "                cv2.rectangle(roi_color,(ex,ey),(ex+ew,ey+eh),(0,255,0),2)  \n",
    "            break    \n",
    "    cv2.imshow(\"Puffy Eyes Prediction\",images[1])\n",
    "    key = cv2.waitKey(0)\n",
    "    if key==ord(\"\\r\"):\n",
    "        cv2.destroyAllWindows()"
   ]
  },
  {
   "cell_type": "code",
   "execution_count": null,
   "metadata": {},
   "outputs": [],
   "source": [
    "# Testing for Dark Spots\n",
    "for (x,y,w,h) in faces:\n",
    "    img=images[2][x:x+w,y:y+h]\n",
    "    imagearr=cv2.resize(img,(100,100))\n",
    "    imagearr=preprocessing(imagearr)\n",
    "    imagearr=imagearr.reshape((1,100,100,1)) \n",
    "    predictions=DarkSpots_model.predict(imagearr)\n",
    "    classIndex=DarkSpots_model.predict_classes(imagearr)\n",
    "    probValue=np.amax(predictions)\n",
    "    cv2.putText(images[2],\"Class: \",(20,25),cv2.FONT_HERSHEY_SIMPLEX,1,(0,0,255)) \n",
    "    cv2.putText(images[2],\"Probability: \",(20,65),cv2.FONT_HERSHEY_SIMPLEX,1,(0,0,255))\n",
    "    if probValue>0.75:\n",
    "        cv2.rectangle(images[2],(x,y),(x+w,y+h),(0,255,0),2)\n",
    "        cv2.putText(images[2],getDarkSpotsClass(classIndex),(120,25),cv2.FONT_HERSHEY_SIMPLEX,1,(0,0,255),1)\n",
    "        cv2.putText(images[2],str(int(probValue*100))+\" %\",(200,65),cv2.FONT_HERSHEY_SIMPLEX,1,(0,0,255),2)\n",
    "    cv2.imshow(\"Dark Spots Prediction\",images[2])\n",
    "    key=cv2.waitKey(0)\n",
    "    if key==ord(\"\\r\"):\n",
    "        cv2.destroyAllWindows()"
   ]
  },
  {
   "cell_type": "code",
   "execution_count": null,
   "metadata": {},
   "outputs": [],
   "source": []
  },
  {
   "cell_type": "code",
   "execution_count": null,
   "metadata": {},
   "outputs": [],
   "source": [
    "for i in range(3):\n",
    "    cv2.imshow(\"Fauci\",images[i])\n",
    "    cv2.waitKey(5000)\n",
    "    cv2.destroyAllWindows()"
   ]
  },
  {
   "cell_type": "code",
   "execution_count": null,
   "metadata": {},
   "outputs": [],
   "source": []
  }
 ],
 "metadata": {
  "kernelspec": {
   "display_name": "Python 3",
   "language": "python",
   "name": "python3"
  },
  "language_info": {
   "codemirror_mode": {
    "name": "ipython",
    "version": 3
   },
   "file_extension": ".py",
   "mimetype": "text/x-python",
   "name": "python",
   "nbconvert_exporter": "python",
   "pygments_lexer": "ipython3",
   "version": "3.8.5"
  }
 },
 "nbformat": 4,
 "nbformat_minor": 5
}
